{
 "cells": [
  {
   "cell_type": "code",
   "execution_count": 1,
   "metadata": {},
   "outputs": [
    {
     "name": "stdout",
     "output_type": "stream",
     "text": [
      "MetaTrader5 version : (500, 3746, '21 May 2023')\n",
      "AccountInfo(login=5013584284, trade_mode=0, leverage=500, limit_orders=200, margin_so_mode=0, trade_allowed=True, trade_expert=True, margin_mode=2, currency_digits=0, fifo_close=False, balance=98738.0, credit=0.0, profit=0.0, equity=98738.0, margin=0.0, margin_free=98738.0, margin_level=0.0, margin_so_call=50.0, margin_so_so=30.0, margin_initial=0.0, margin_maintenance=0.0, assets=0.0, liabilities=0.0, commission_blocked=0.0, name='python fx-trading', server='MetaQuotes-Demo', currency='JPY', company='MetaQuotes Software Corp.')\n",
      "  login=5013584284\n",
      "  trade_mode=0\n",
      "  leverage=500\n",
      "  limit_orders=200\n",
      "  margin_so_mode=0\n",
      "  trade_allowed=True\n",
      "  trade_expert=True\n",
      "  margin_mode=2\n",
      "  currency_digits=0\n",
      "  fifo_close=False\n",
      "  balance=98738.0\n",
      "  credit=0.0\n",
      "  profit=0.0\n",
      "  equity=98738.0\n",
      "  margin=0.0\n",
      "  margin_free=98738.0\n",
      "  margin_level=0.0\n",
      "  margin_so_call=50.0\n",
      "  margin_so_so=30.0\n",
      "  margin_initial=0.0\n",
      "  margin_maintenance=0.0\n",
      "  assets=0.0\n",
      "  liabilities=0.0\n",
      "  commission_blocked=0.0\n",
      "  name=python fx-trading\n",
      "  server=MetaQuotes-Demo\n",
      "  currency=JPY\n",
      "  company=MetaQuotes Software Corp.\n",
      "\n"
     ]
    }
   ],
   "source": [
    "# import packages\n",
    "import MetaTrader5 as mt5\n",
    "import pandas as pd\n",
    "from datetime import datetime\n",
    "from dotenv import load_dotenv\n",
    "import os\n",
    "import tensorflow as tf\n",
    "import numpy as np\n",
    "# envファイル読み込み\n",
    "load_dotenv()\n",
    "login_server = os.environ.get(\"LOGIN_SERVER\")\n",
    "login_id = int(os.environ.get(\"LOGIN_ID\"))\n",
    "login_password = os.environ.get(\"LOGIN_PASSWORD\")\n",
    "\n",
    "# login mt5\n",
    "if not mt5.initialize():\n",
    "    print(\"initialize() failed, error code =\", mt5.last_error())\n",
    "    quit()\n",
    "print(f'MetaTrader5 version : {mt5.version()}')\n",
    "\n",
    "authorized=mt5.login(login = login_id, password = login_password, server = login_server)\n",
    "if authorized:\n",
    "    account_info=mt5.account_info()\n",
    "    if account_info!=None:\n",
    "        print(account_info)\n",
    "        account_info_dict = mt5.account_info()._asdict()\n",
    "        for prop in account_info_dict:\n",
    "            print(\"  {}={}\".format(prop, account_info_dict[prop]))\n",
    "        print()\n",
    "else:\n",
    "    print(\"failed to connect to trade account 25115284 with password=gqz0343lbdm, error code =\",mt5.last_error())\n",
    "    quit()\n",
    " \n",
    "# 各種設定\n",
    "symbol = \"USDJPY\"   # 取引対象\n",
    "magic_number = 10001 # bot識別番号\n",
    "per     = 0.1       # 1回の投資金額\n",
    "losscut = 0.995     # ロスカットする比率\n",
    "per_lot = 100000     # 1ロット当たりの通貨数\n",
    "leverage = 100        # レバレッジ(整数)\n",
    "maxlen = 60         # modelの入力データの長さ\n",
    "\n",
    "# 最小lot数取得\n",
    "point=mt5.symbol_info(symbol).point\n"
   ]
  },
  {
   "cell_type": "code",
   "execution_count": 12,
   "metadata": {},
   "outputs": [
    {
     "name": "stdout",
     "output_type": "stream",
     "text": [
      "OrderSendResult(retcode=10009, deal=50462060318, order=50462227175, volume=0.07, price=138.461, bid=138.461, ask=138.461, comment='Request executed', request_id=840728513, retcode_external=0, request=TradeRequest(action=1, magic=234000, order=0, symbol='USDJPY', volume=0.07, price=138.461, stoplimit=0.0, sl=137.81744999999998, tp=139.89509999999999, deviation=20, type=0, type_filling=2, type_time=0, expiration=0, comment='python script open', position=0, position_by=0))\n"
     ]
    }
   ],
   "source": [
    "\n",
    "balance = mt5.account_info()._asdict()[\"balance\"]\n",
    "rates = mt5.copy_rates_from_pos(symbol, mt5.TIMEFRAME_H1, 1, 60+maxlen-1)\n",
    "rates_frame = pd.DataFrame(rates)\n",
    "symbol_tick=mt5.symbol_info_tick(symbol)\n",
    "result = mt5.order_send({\n",
    "        \"action\": mt5.TRADE_ACTION_DEAL,\n",
    "        \"symbol\": symbol,\n",
    "        \"volume\": round((balance * per * leverage / rates_frame[\"close\"].values[-1]) / per_lot, 2),\n",
    "        \"type\": mt5.ORDER_TYPE_BUY,\n",
    "        \"price\": symbol_tick.ask,\n",
    "        \"sl\": rates_frame[\"close\"].values[-1] * losscut,\n",
    "        \"tp\": rates_frame[\"close\"].values[-1] * 1.01,\n",
    "        \"deviation\": 20,\n",
    "        \"magic\": 234000,\n",
    "        \"comment\": \"python script open\",\n",
    "        \"type_time\": mt5.ORDER_TIME_GTC,\n",
    "        \"type_filling\": mt5.ORDER_FILLING_RETURN,\n",
    "        })\n",
    "print(result)"
   ]
  },
  {
   "cell_type": "code",
   "execution_count": 14,
   "metadata": {},
   "outputs": [
    {
     "name": "stdout",
     "output_type": "stream",
     "text": [
      "{'ticket': 50462227175, 'time': 1684851455, 'time_msc': 1684851455851, 'time_update': 1684851455, 'time_update_msc': 1684851455851, 'type': 0, 'magic': 234000, 'identifier': 50462227175, 'reason': 3, 'volume': 0.07, 'price_open': 138.461, 'sl': 137.817, 'tp': 139.895, 'price_current': 138.457, 'swap': 0.0, 'profit': -28.0, 'symbol': 'USDJPY', 'comment': 'python script op', 'external_id': ''}\n",
      "OrderSendResult(retcode=10009, deal=50462060771, order=50462227654, volume=0.07, price=138.457, bid=138.457, ask=138.462, comment='Request executed', request_id=840728515, retcode_external=0, request=TradeRequest(action=1, magic=0, order=0, symbol='USDJPY', volume=0.07, price=138.457, stoplimit=0.0, sl=0.0, tp=0.0, deviation=0, type=1, type_filling=0, type_time=0, expiration=0, comment='', position=50462227175, position_by=0))\n"
     ]
    }
   ],
   "source": [
    "positions = mt5.positions_get(symbol = symbol)\n",
    "position = positions[0]._asdict()\n",
    "symbol_tick=mt5.symbol_info_tick(symbol)\n",
    "print(position)\n",
    "result = mt5.order_send({\n",
    "        \"action\": mt5.TRADE_ACTION_DEAL,\n",
    "        \"symbol\": position[\"symbol\"],\n",
    "        \"volume\": position[\"volume\"],\n",
    "        \"type\": mt5.ORDER_TYPE_SELL,\n",
    "        \"position\": position[\"ticket\"],\n",
    "        \"price\": symbol_tick.bid,\n",
    "    })\n",
    "print(result)"
   ]
  }
 ],
 "metadata": {
  "kernelspec": {
   "display_name": "fx-project",
   "language": "python",
   "name": "python3"
  },
  "language_info": {
   "codemirror_mode": {
    "name": "ipython",
    "version": 3
   },
   "file_extension": ".py",
   "mimetype": "text/x-python",
   "name": "python",
   "nbconvert_exporter": "python",
   "pygments_lexer": "ipython3",
   "version": "3.8.10"
  },
  "orig_nbformat": 4
 },
 "nbformat": 4,
 "nbformat_minor": 2
}
