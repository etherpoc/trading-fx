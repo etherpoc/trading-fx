{
 "cells": [
  {
   "cell_type": "code",
   "execution_count": 1,
   "id": "ace33718-d1d0-49ad-870c-1852f5951f2a",
   "metadata": {},
   "outputs": [],
   "source": [
    "# パッケージ\n",
    "import pandas as pd\n",
    "from datetime import datetime"
   ]
  },
  {
   "cell_type": "code",
   "execution_count": null,
   "id": "f9478858-e5e8-4077-8437-1c928fde9345",
   "metadata": {},
   "outputs": [],
   "source": [
    "for year in range(2015, 2024):\n",
    "    months = 12 if year==2024 else 4\n",
    "    for j in range(months):\n",
    "        i = pd.read_csv(\"../charts/USDJPY/\"+)"
   ]
  },
  {
   "cell_type": "code",
   "execution_count": null,
   "id": "13081614-8ad0-4ae5-a2cc-e0306d105726",
   "metadata": {},
   "outputs": [],
   "source": []
  }
 ],
 "metadata": {
  "kernelspec": {
   "display_name": "Python 3",
   "language": "python",
   "name": "python3"
  },
  "language_info": {
   "codemirror_mode": {
    "name": "ipython",
    "version": 3
   },
   "file_extension": ".py",
   "mimetype": "text/x-python",
   "name": "python",
   "nbconvert_exporter": "python",
   "pygments_lexer": "ipython3",
   "version": "3.8.16"
  }
 },
 "nbformat": 4,
 "nbformat_minor": 5
}
